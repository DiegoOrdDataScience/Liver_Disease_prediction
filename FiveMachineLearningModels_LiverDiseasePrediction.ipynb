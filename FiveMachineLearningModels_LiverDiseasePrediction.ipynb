{
 "cells": [
  {
   "cell_type": "code",
   "execution_count": 1,
   "metadata": {},
   "outputs": [],
   "source": [
    "import pandas as pd\n",
    "import numpy as np\n",
    "from xgboost.sklearn import XGBClassifier\n",
    "from sklearn.ensemble import RandomForestClassifier\n",
    "from sklearn.svm import SVC\n",
    "from sklearn.linear_model import LogisticRegression\n",
    "from sklearn import tree\n",
    "from sklearn.model_selection import StratifiedKFold, GridSearchCV, ParameterGrid\n",
    "from sklearn.preprocessing import LabelEncoder\n",
    "from sklearn import preprocessing\n",
    "from sklearn import metrics\n",
    "import os\n",
    "import matplotlib.pyplot as plt"
   ]
  },
  {
   "cell_type": "code",
   "execution_count": 2,
   "metadata": {},
   "outputs": [],
   "source": [
    "# For reproducible results\n",
    "np.random.seed(0)"
   ]
  },
  {
   "cell_type": "code",
   "execution_count": 3,
   "metadata": {},
   "outputs": [
    {
     "data": {
      "text/html": [
       "<div>\n",
       "<style scoped>\n",
       "    .dataframe tbody tr th:only-of-type {\n",
       "        vertical-align: middle;\n",
       "    }\n",
       "\n",
       "    .dataframe tbody tr th {\n",
       "        vertical-align: top;\n",
       "    }\n",
       "\n",
       "    .dataframe thead th {\n",
       "        text-align: right;\n",
       "    }\n",
       "</style>\n",
       "<table border=\"1\" class=\"dataframe\">\n",
       "  <thead>\n",
       "    <tr style=\"text-align: right;\">\n",
       "      <th></th>\n",
       "      <th>Age</th>\n",
       "      <th>Gender</th>\n",
       "      <th>Total_Bilirubin</th>\n",
       "      <th>Direct_Bilirubin</th>\n",
       "      <th>Alkaline_Phosphotase</th>\n",
       "      <th>Alamine_Aminotransferase</th>\n",
       "      <th>Aspartate_Aminotransferase</th>\n",
       "      <th>Total_Protiens</th>\n",
       "      <th>Albumin</th>\n",
       "      <th>Albumin_and_Globulin_Ratio</th>\n",
       "      <th>Liver_Disease</th>\n",
       "    </tr>\n",
       "  </thead>\n",
       "  <tbody>\n",
       "    <tr>\n",
       "      <th>0</th>\n",
       "      <td>65</td>\n",
       "      <td>Female</td>\n",
       "      <td>0.7</td>\n",
       "      <td>0.1</td>\n",
       "      <td>187</td>\n",
       "      <td>16</td>\n",
       "      <td>18</td>\n",
       "      <td>6.8</td>\n",
       "      <td>3.3</td>\n",
       "      <td>0.90</td>\n",
       "      <td>1</td>\n",
       "    </tr>\n",
       "    <tr>\n",
       "      <th>1</th>\n",
       "      <td>62</td>\n",
       "      <td>Male</td>\n",
       "      <td>10.9</td>\n",
       "      <td>5.5</td>\n",
       "      <td>699</td>\n",
       "      <td>64</td>\n",
       "      <td>100</td>\n",
       "      <td>7.5</td>\n",
       "      <td>3.2</td>\n",
       "      <td>0.74</td>\n",
       "      <td>1</td>\n",
       "    </tr>\n",
       "  </tbody>\n",
       "</table>\n",
       "</div>"
      ],
      "text/plain": [
       "   Age  Gender  Total_Bilirubin  Direct_Bilirubin  Alkaline_Phosphotase  \\\n",
       "0   65  Female              0.7               0.1                   187   \n",
       "1   62    Male             10.9               5.5                   699   \n",
       "\n",
       "   Alamine_Aminotransferase  Aspartate_Aminotransferase  Total_Protiens  \\\n",
       "0                        16                          18             6.8   \n",
       "1                        64                         100             7.5   \n",
       "\n",
       "   Albumin  Albumin_and_Globulin_Ratio  Liver_Disease  \n",
       "0      3.3                        0.90              1  \n",
       "1      3.2                        0.74              1  "
      ]
     },
     "execution_count": 3,
     "metadata": {},
     "output_type": "execute_result"
    }
   ],
   "source": [
    "# Load the the csv file (Indian liver patient (Kaggle).csv)\n",
    "LiverDisease_address = '/Users/francybayona/Documents/DOC DIEGO/Python docs/Nanostic Project/Indian liver patient (Kaggle).csv'\n",
    "df_LiverDisease = pd.read_csv(LiverDisease_address)\n",
    "df_LiverDisease.head(2)"
   ]
  },
  {
   "cell_type": "code",
   "execution_count": 4,
   "metadata": {},
   "outputs": [
    {
     "data": {
      "text/html": [
       "<div>\n",
       "<style scoped>\n",
       "    .dataframe tbody tr th:only-of-type {\n",
       "        vertical-align: middle;\n",
       "    }\n",
       "\n",
       "    .dataframe tbody tr th {\n",
       "        vertical-align: top;\n",
       "    }\n",
       "\n",
       "    .dataframe thead th {\n",
       "        text-align: right;\n",
       "    }\n",
       "</style>\n",
       "<table border=\"1\" class=\"dataframe\">\n",
       "  <thead>\n",
       "    <tr style=\"text-align: right;\">\n",
       "      <th></th>\n",
       "      <th>Age</th>\n",
       "      <th>Gender</th>\n",
       "      <th>Total_Bilirubin</th>\n",
       "      <th>Direct_Bilirubin</th>\n",
       "      <th>Alkaline_Phosphotase</th>\n",
       "      <th>Alamine_Aminotransferase</th>\n",
       "      <th>Aspartate_Aminotransferase</th>\n",
       "      <th>Total_Protiens</th>\n",
       "      <th>Albumin</th>\n",
       "      <th>Albumin_and_Globulin_Ratio</th>\n",
       "      <th>Liver_Disease</th>\n",
       "    </tr>\n",
       "  </thead>\n",
       "  <tbody>\n",
       "    <tr>\n",
       "      <th>0</th>\n",
       "      <td>65</td>\n",
       "      <td>0</td>\n",
       "      <td>0.7</td>\n",
       "      <td>0.1</td>\n",
       "      <td>187</td>\n",
       "      <td>16</td>\n",
       "      <td>18</td>\n",
       "      <td>6.8</td>\n",
       "      <td>3.3</td>\n",
       "      <td>0.90</td>\n",
       "      <td>1</td>\n",
       "    </tr>\n",
       "    <tr>\n",
       "      <th>1</th>\n",
       "      <td>62</td>\n",
       "      <td>1</td>\n",
       "      <td>10.9</td>\n",
       "      <td>5.5</td>\n",
       "      <td>699</td>\n",
       "      <td>64</td>\n",
       "      <td>100</td>\n",
       "      <td>7.5</td>\n",
       "      <td>3.2</td>\n",
       "      <td>0.74</td>\n",
       "      <td>1</td>\n",
       "    </tr>\n",
       "  </tbody>\n",
       "</table>\n",
       "</div>"
      ],
      "text/plain": [
       "   Age  Gender  Total_Bilirubin  Direct_Bilirubin  Alkaline_Phosphotase  \\\n",
       "0   65       0              0.7               0.1                   187   \n",
       "1   62       1             10.9               5.5                   699   \n",
       "\n",
       "   Alamine_Aminotransferase  Aspartate_Aminotransferase  Total_Protiens  \\\n",
       "0                        16                          18             6.8   \n",
       "1                        64                         100             7.5   \n",
       "\n",
       "   Albumin  Albumin_and_Globulin_Ratio  Liver_Disease  \n",
       "0      3.3                        0.90              1  \n",
       "1      3.2                        0.74              1  "
      ]
     },
     "execution_count": 4,
     "metadata": {},
     "output_type": "execute_result"
    }
   ],
   "source": [
    "# Use the function LabelEncoder for the column Gender\n",
    "# LabelEncoder transform the Gender values (Female and Male) to numerical values (0 y 1)\n",
    "# Machine Leraning models work with numerical values\n",
    "df_LiverDisease['Gender'] = LabelEncoder().fit_transform(df_LiverDisease['Gender'])\n",
    "df_LiverDisease.head(2)"
   ]
  },
  {
   "cell_type": "code",
   "execution_count": 5,
   "metadata": {},
   "outputs": [
    {
     "name": "stdout",
     "output_type": "stream",
     "text": [
      "<class 'pandas.core.frame.DataFrame'>\n",
      "RangeIndex: 583 entries, 0 to 582\n",
      "Data columns (total 11 columns):\n",
      " #   Column                      Non-Null Count  Dtype  \n",
      "---  ------                      --------------  -----  \n",
      " 0   Age                         583 non-null    int64  \n",
      " 1   Gender                      583 non-null    int64  \n",
      " 2   Total_Bilirubin             583 non-null    float64\n",
      " 3   Direct_Bilirubin            583 non-null    float64\n",
      " 4   Alkaline_Phosphotase        583 non-null    int64  \n",
      " 5   Alamine_Aminotransferase    583 non-null    int64  \n",
      " 6   Aspartate_Aminotransferase  583 non-null    int64  \n",
      " 7   Total_Protiens              583 non-null    float64\n",
      " 8   Albumin                     583 non-null    float64\n",
      " 9   Albumin_and_Globulin_Ratio  579 non-null    float64\n",
      " 10  Liver_Disease               583 non-null    int64  \n",
      "dtypes: float64(5), int64(6)\n",
      "memory usage: 50.2 KB\n"
     ]
    }
   ],
   "source": [
    "df_LiverDisease.info()"
   ]
  },
  {
   "cell_type": "code",
   "execution_count": 6,
   "metadata": {},
   "outputs": [
    {
     "name": "stdout",
     "output_type": "stream",
     "text": [
      "<class 'pandas.core.frame.DataFrame'>\n",
      "RangeIndex: 583 entries, 0 to 582\n",
      "Data columns (total 11 columns):\n",
      " #   Column                      Non-Null Count  Dtype  \n",
      "---  ------                      --------------  -----  \n",
      " 0   Age                         583 non-null    int64  \n",
      " 1   Gender                      583 non-null    int64  \n",
      " 2   Total_Bilirubin             583 non-null    float64\n",
      " 3   Direct_Bilirubin            583 non-null    float64\n",
      " 4   Alkaline_Phosphotase        583 non-null    int64  \n",
      " 5   Alamine_Aminotransferase    583 non-null    int64  \n",
      " 6   Aspartate_Aminotransferase  583 non-null    int64  \n",
      " 7   Total_Protiens              583 non-null    float64\n",
      " 8   Albumin                     583 non-null    float64\n",
      " 9   Albumin_and_Globulin_Ratio  583 non-null    float64\n",
      " 10  Liver_Disease               583 non-null    int64  \n",
      "dtypes: float64(5), int64(6)\n",
      "memory usage: 50.2 KB\n"
     ]
    }
   ],
   "source": [
    "# Fill NaN values for the Albumin_and_Globulin_Ratio column\n",
    "df_LiverDisease_FillNaN = df_LiverDisease.fillna({'Albumin_and_Globulin_Ratio':df_LiverDisease['Albumin_and_Globulin_Ratio'].mean()})\n",
    "df_LiverDisease_FillNaN.info()"
   ]
  },
  {
   "cell_type": "code",
   "execution_count": 7,
   "metadata": {},
   "outputs": [],
   "source": [
    "#Separate variables (x) from target (y) \n",
    "x = df_LiverDisease_FillNaN.drop(['Liver_Disease'],axis='columns')\n",
    "#x = preprocessing.scale(variables)\n",
    "y = df_LiverDisease_FillNaN.Liver_Disease"
   ]
  },
  {
   "cell_type": "code",
   "execution_count": 8,
   "metadata": {},
   "outputs": [],
   "source": [
    "# Specify the number of folds for the outer cross validation\n",
    "outer_cv_folds = 5"
   ]
  },
  {
   "cell_type": "code",
   "execution_count": 9,
   "metadata": {},
   "outputs": [],
   "source": [
    "# Initialize probability variables for XGBoost\n",
    "prob_train_XGBoost = np.full((np.shape(x)[0], outer_cv_folds), np.nan)\n",
    "prob_test_XGBoost = np.full((np.shape(x)[0], outer_cv_folds), np.nan)\n",
    "aucs_train_XGBoost = np.full(outer_cv_folds, np.nan)\n",
    "aucs_test_XGBoost = np.full(outer_cv_folds, np.nan)"
   ]
  },
  {
   "cell_type": "code",
   "execution_count": 10,
   "metadata": {},
   "outputs": [],
   "source": [
    "# Initialize probability variables for RandomForestClassifier\n",
    "prob_train_RFC = np.full((np.shape(x)[0], outer_cv_folds), np.nan)\n",
    "prob_test_RFC = np.full((np.shape(x)[0], outer_cv_folds), np.nan)\n",
    "aucs_train_RFC = np.full(outer_cv_folds, np.nan)\n",
    "aucs_test_RFC = np.full(outer_cv_folds, np.nan)"
   ]
  },
  {
   "cell_type": "code",
   "execution_count": 11,
   "metadata": {},
   "outputs": [],
   "source": [
    "# Initialize probability variables for Suport Vector Machine\n",
    "prob_train_SVM = np.full((np.shape(x)[0], outer_cv_folds), np.nan)\n",
    "prob_test_SVM = np.full((np.shape(x)[0], outer_cv_folds), np.nan)\n",
    "aucs_train_SVM  = np.full(outer_cv_folds, np.nan)\n",
    "aucs_test_SVM  = np.full(outer_cv_folds, np.nan)"
   ]
  },
  {
   "cell_type": "code",
   "execution_count": 12,
   "metadata": {},
   "outputs": [],
   "source": [
    "# Initialize probability variables for LogisticRegression\n",
    "prob_train_LogR = np.full((np.shape(x)[0], outer_cv_folds), np.nan)\n",
    "prob_test_LogR = np.full((np.shape(x)[0], outer_cv_folds), np.nan)\n",
    "aucs_train_LogR = np.full(outer_cv_folds, np.nan)\n",
    "aucs_test_LogR = np.full(outer_cv_folds, np.nan)"
   ]
  },
  {
   "cell_type": "code",
   "execution_count": 13,
   "metadata": {},
   "outputs": [],
   "source": [
    "# Initialize probability variables for Single Decision Tree Classifier\n",
    "prob_train_SDTree = np.full((np.shape(x)[0], outer_cv_folds), np.nan)\n",
    "prob_test_SDTree = np.full((np.shape(x)[0], outer_cv_folds), np.nan)\n",
    "aucs_train_SDTree = np.full(outer_cv_folds, np.nan)\n",
    "aucs_test_SDTree = np.full(outer_cv_folds, np.nan)"
   ]
  },
  {
   "cell_type": "code",
   "execution_count": 14,
   "metadata": {},
   "outputs": [],
   "source": [
    "#Outer cross validation\n",
    "cv_outer = StratifiedKFold(n_splits=outer_cv_folds)\n",
    "ncv_idx = -1"
   ]
  },
  {
   "cell_type": "code",
   "execution_count": 15,
   "metadata": {},
   "outputs": [
    {
     "name": "stderr",
     "output_type": "stream",
     "text": [
      "/Users/francybayona/opt/anaconda3/lib/python3.7/site-packages/sklearn/svm/_base.py:249: ConvergenceWarning: Solver terminated early (max_iter=1000).  Consider pre-processing your data with StandardScaler or MinMaxScaler.\n",
      "  % self.max_iter, ConvergenceWarning)\n",
      "/Users/francybayona/opt/anaconda3/lib/python3.7/site-packages/sklearn/svm/_base.py:249: ConvergenceWarning: Solver terminated early (max_iter=1000).  Consider pre-processing your data with StandardScaler or MinMaxScaler.\n",
      "  % self.max_iter, ConvergenceWarning)\n",
      "/Users/francybayona/opt/anaconda3/lib/python3.7/site-packages/sklearn/svm/_base.py:249: ConvergenceWarning: Solver terminated early (max_iter=1000).  Consider pre-processing your data with StandardScaler or MinMaxScaler.\n",
      "  % self.max_iter, ConvergenceWarning)\n",
      "/Users/francybayona/opt/anaconda3/lib/python3.7/site-packages/sklearn/svm/_base.py:249: ConvergenceWarning: Solver terminated early (max_iter=1000).  Consider pre-processing your data with StandardScaler or MinMaxScaler.\n",
      "  % self.max_iter, ConvergenceWarning)\n"
     ]
    }
   ],
   "source": [
    "#Design a for loop for a inner cross validation\n",
    "for train_idx, test_idx in cv_outer.split(x, y):\n",
    "    ncv_idx += 1\n",
    "    train_data, test_data = x.iloc[train_idx], x.iloc[test_idx]\n",
    "    train_target, test_target = y.iloc[train_idx], y.iloc[test_idx]\n",
    "    XGBoost_model = XGBClassifier(objective = 'binary:logistic', # Add objective and metric to model initialization\n",
    "                                  eval_metric = 'auc')\n",
    "    RFC_model = RandomForestClassifier()\n",
    "    SVM_model = SVC(probability=True)\n",
    "    LogR_model = LogisticRegression()\n",
    "    SDTree_model = tree.DecisionTreeClassifier()\n",
    "    # Find best XGBoost parameters\n",
    "    cv_inner = StratifiedKFold(n_splits=3)   # Training data being split 3 times \n",
    "    Parmt_XGBoost = {'n_estimators':[50, 100],\n",
    "                     'max_depth':[3, 5],\n",
    "                     'learning_rate':[0.01, 0.1, 0.3],\n",
    "                     'colsample_bytree':[0.5, 1],\n",
    "                     'gamma':[0],\n",
    "                     }\n",
    "    \n",
    "    Parmt_model_XGBoost = GridSearchCV(estimator=XGBoost_model,\n",
    "                                       param_grid=Parmt_XGBoost,\n",
    "                                       scoring='roc_auc',\n",
    "                                       n_jobs=-1,\n",
    "                                       cv=cv_inner).fit(train_data,train_target)\n",
    "    best_parameters_XGBoost = Parmt_model_XGBoost.best_params_\n",
    "    # Set best parameters to XGBoost \n",
    "    XGBoost_model.set_params(**best_parameters_XGBoost)\n",
    "    # Train optimized XGBoost model on train data\n",
    "    XGBoost_model.fit(train_data,train_target)\n",
    "    # Train data results\n",
    "    prob_train_XGBoost[train_idx, ncv_idx] = XGBoost_model.predict_proba(train_data)[:,1]\n",
    "    aucs_train_XGBoost[ncv_idx] = metrics.roc_auc_score(train_target, prob_train_XGBoost[train_idx, ncv_idx])\n",
    "    # Test data results\n",
    "    prob_test_XGBoost[test_idx, ncv_idx] = XGBoost_model.predict_proba(test_data)[:,1]\n",
    "    aucs_test_XGBoost[ncv_idx] = metrics.roc_auc_score(test_target, prob_test_XGBoost[test_idx, ncv_idx])\n",
    "    \n",
    "    # Find best RandomForestClassifier parameters\n",
    "    Parmt_RFC = {'criterion':['gini','entropy'], 'max_depth':[1,10,100,1000],\n",
    "               'class_weight':['balanced',None]}\n",
    "    Parmt_model_RFC = GridSearchCV(estimator=RFC_model,\n",
    "                                       param_grid=Parmt_RFC,\n",
    "                                       scoring='roc_auc',\n",
    "                                       n_jobs=-1,\n",
    "                                       cv=cv_inner).fit(train_data,train_target)\n",
    "    best_parameters_RFC = Parmt_model_RFC.best_params_\n",
    "    # Set best parameters to RFC\n",
    "    RFC_model.set_params(**best_parameters_RFC)\n",
    "    # Train optimized RFC model on train data\n",
    "    RFC_model.fit(train_data,train_target)\n",
    "    # Train data results\n",
    "    prob_train_RFC[train_idx, ncv_idx] = RFC_model.predict_proba(train_data)[:,1]\n",
    "    aucs_train_RFC[ncv_idx] = metrics.roc_auc_score(train_target, prob_train_RFC[train_idx, ncv_idx])\n",
    "    # Test data results\n",
    "    prob_test_RFC[test_idx, ncv_idx] = RFC_model.predict_proba(test_data)[:,1]\n",
    "    aucs_test_RFC[ncv_idx] = metrics.roc_auc_score(test_target, prob_test_RFC[test_idx, ncv_idx])\n",
    "    \n",
    "    # Find best Suport Vector Machine parameters\n",
    "    Parmt_SVM = {'C':[1,10,100], 'class_weight':['balanced',None], 'coef0':[0,1,10],\n",
    "             'decision_function_shape':['ovo','ovr'], 'gamma':['scale','auto'],\n",
    "             'kernel':['rbf'],'max_iter':[-1,1000]}\n",
    "    Parmt_model_SVM = GridSearchCV(estimator=SVM_model,\n",
    "                                       param_grid=Parmt_SVM,\n",
    "                                       scoring='roc_auc',\n",
    "                                       n_jobs=-1,\n",
    "                                       cv=cv_inner).fit(train_data,train_target)\n",
    "    best_parameters_SVM = Parmt_model_SVM.best_params_\n",
    "    # Set best parameters to SVM\n",
    "    SVM_model.set_params(**best_parameters_SVM)\n",
    "    # Train optimized SVM model on train data\n",
    "    SVM_model.fit(train_data,train_target)\n",
    "    # Train data results\n",
    "    prob_train_SVM[train_idx, ncv_idx] = SVM_model.predict_proba(train_data)[:,1]\n",
    "    aucs_train_SVM[ncv_idx] = metrics.roc_auc_score(train_target, prob_train_SVM[train_idx, ncv_idx])\n",
    "    # Test data results\n",
    "    prob_test_SVM[test_idx, ncv_idx] = SVM_model.predict_proba(test_data)[:,1]\n",
    "    aucs_test_SVM[ncv_idx] = metrics.roc_auc_score(test_target, prob_test_SVM[test_idx, ncv_idx])\n",
    "    \n",
    "    # Find best Suport Logistic Regression\n",
    "    Parmt_LogR = {'C':[1,10,100], 'class_weight':['balanced',None], 'dual':[False],\n",
    "              'fit_intercept':[True,False], 'intercept_scaling':[1,10,100], 'penalty':['l2'],\n",
    "              'multi_class':['auto','ovr','multinomial'],'max_iter':[1000]}\n",
    "    Parmt_model_LogR = GridSearchCV(estimator=LogR_model,\n",
    "                                       param_grid=Parmt_LogR,\n",
    "                                       scoring='roc_auc',\n",
    "                                       n_jobs=-1,\n",
    "                                       cv=cv_inner).fit(train_data,train_target)\n",
    "    best_parameters_LogR = Parmt_model_LogR.best_params_\n",
    "    # Set best parameters to LogR\n",
    "    LogR_model.set_params(**best_parameters_LogR)\n",
    "    # Train optimized LogR model on train data\n",
    "    LogR_model.fit(train_data,train_target)\n",
    "    # Train data results\n",
    "    prob_train_LogR[train_idx, ncv_idx] = LogR_model.predict_proba(train_data)[:,1]\n",
    "    aucs_train_LogR[ncv_idx] = metrics.roc_auc_score(train_target, prob_train_LogR[train_idx, ncv_idx])\n",
    "    # Test data results\n",
    "    prob_test_LogR[test_idx, ncv_idx] = LogR_model.predict_proba(test_data)[:,1]\n",
    "    aucs_test_LogR[ncv_idx] = metrics.roc_auc_score(test_target, prob_test_LogR[test_idx, ncv_idx])\n",
    "    \n",
    "    # Find best Suport Single Decision Tree Classifier\n",
    "    Parmt_SDTree = {'criterion':['gini','entropy'], 'splitter':['best','random'], 'max_depth':[1,10,100,1000],\n",
    "               'class_weight':['balanced',None], 'max_features':['auto','sqrt','log2'],\n",
    "               'min_samples_leaf':[1,10,100], 'min_samples_split':[2,4,8], 'min_weight_fraction_leaf':[0.0,0.1,0.5]}\n",
    "    Parmt_model_SDTree = GridSearchCV(estimator=SDTree_model,\n",
    "                                       param_grid=Parmt_SDTree,\n",
    "                                       scoring='roc_auc',\n",
    "                                       n_jobs=-1,\n",
    "                                       cv=cv_inner).fit(train_data,train_target)\n",
    "    best_parameters_SDTree = Parmt_model_SDTree.best_params_\n",
    "    # Set best parameters to SDTree\n",
    "    SDTree_model.set_params(**best_parameters_SDTree)\n",
    "    # Train optimized SDTree model on train data\n",
    "    SDTree_model.fit(train_data,train_target)\n",
    "    # Train data results\n",
    "    prob_train_SDTree[train_idx, ncv_idx] = SDTree_model.predict_proba(train_data)[:,1]\n",
    "    aucs_train_SDTree[ncv_idx] = metrics.roc_auc_score(train_target, prob_train_SDTree[train_idx, ncv_idx])\n",
    "    # Test data results\n",
    "    prob_test_SDTree[test_idx, ncv_idx] = SDTree_model.predict_proba(test_data)[:,1]\n",
    "    aucs_test_SDTree[ncv_idx] = metrics.roc_auc_score(test_target, prob_test_SDTree[test_idx, ncv_idx])"
   ]
  },
  {
   "cell_type": "code",
   "execution_count": 17,
   "metadata": {},
   "outputs": [],
   "source": [
    "# Final test predictions in one column\n",
    "prob_test_final_XGB = np.nanmean(prob_test_XGBoost, axis=1)\n",
    "prob_test_final_RFC = np.nanmean(prob_test_RFC, axis=1)\n",
    "prob_test_final_SVM = np.nanmean(prob_test_SVM, axis=1)\n",
    "prob_test_final_LogR = np.nanmean(prob_test_LogR, axis=1)\n",
    "prob_test_final_SDTree = np.nanmean(prob_test_SDTree, axis=1)"
   ]
  },
  {
   "cell_type": "code",
   "execution_count": 18,
   "metadata": {},
   "outputs": [],
   "source": [
    "# AUC based on test predictions\n",
    "auc_test_prob_XGB = metrics.roc_auc_score(y, prob_test_final_XGB)\n",
    "auc_test_prob_RFC = metrics.roc_auc_score(y, prob_test_final_RFC)\n",
    "auc_test_prob_SVM = metrics.roc_auc_score(y, prob_test_final_SVM)\n",
    "auc_test_prob_LogR = metrics.roc_auc_score(y, prob_test_final_LogR)\n",
    "auc_test_prob_SDTree = metrics.roc_auc_score(y, prob_test_final_SDTree)"
   ]
  },
  {
   "cell_type": "code",
   "execution_count": 19,
   "metadata": {},
   "outputs": [
    {
     "data": {
      "image/png": "[encoded data removed]",
      "text/plain": [
       "<Figure size 500x500 with 1 Axes>"
      ]
     },
     "metadata": {
      "needs_background": "light"
     },
     "output_type": "display_data"
    }
   ],
   "source": [
    "#Plot AUC\n",
    "xgb_fpr, xgb_tpr, threshold = metrics.roc_curve(y, prob_test_final_XGB, pos_label=2)\n",
    "RFC_fpr, RFC_tpr, threshold = metrics.roc_curve(y, prob_test_final_RFC, pos_label=2)\n",
    "SVM_fpr, SVM_tpr, threshold = metrics.roc_curve(y, prob_test_final_SVM, pos_label=2)\n",
    "LogR_fpr, LogR_tpr, threshold = metrics.roc_curve(y, prob_test_final_LogR, pos_label=2)\n",
    "SDTree_fpr, SDTree_tpr, threshold = metrics.roc_curve(y, prob_test_final_SDTree, pos_label=2)\n",
    "\n",
    "auc_xgb = metrics.auc(xgb_fpr, xgb_tpr)\n",
    "auc_RFC_test = metrics.auc(RFC_fpr, RFC_tpr)\n",
    "auc_SVM_test = metrics.auc(SVM_fpr, SVM_tpr)\n",
    "auc_LogR_test = metrics.auc(LogR_fpr, LogR_tpr)\n",
    "auc_SDTree_test = metrics.auc(SDTree_fpr, SDTree_tpr)\n",
    "\n",
    "plt.figure(figsize=(5,5), dpi=100)\n",
    "plt.plot(xgb_fpr, xgb_tpr, linestyle='-', label='xgb(auc=%0.3f)' % auc_xgb)\n",
    "plt.plot(RFC_fpr, RFC_tpr, linestyle='dotted', label='RFC(auc=%0.3f)' % auc_RFC_test)\n",
    "plt.plot(SVM_fpr, SVM_tpr, linestyle='solid', label='SVM(auc=%0.3f)' % auc_SVM_test)\n",
    "plt.plot(LogR_fpr, LogR_tpr, linestyle='dashed', label='LogR(auc=%0.3f)' % auc_LogR_test)\n",
    "plt.plot(SDTree_fpr, SDTree_tpr, linestyle='dashdot', label='SDTree(auc=%0.3f)' % auc_SDTree_test)\n",
    "plt.xlabel('False Positive Rate -->')\n",
    "plt.ylabel('True Positive Rate -->')\n",
    "plt.legend()\n",
    "plt.show()"
   ]
  },
  {
   "cell_type": "code",
   "execution_count": null,
   "metadata": {},
   "outputs": [],
   "source": []
  }
 ],
 "metadata": {
  "kernelspec": {
   "display_name": "Python 3",
   "language": "python",
   "name": "python3"
  },
  "language_info": {
   "codemirror_mode": {
    "name": "ipython",
    "version": 3
   },
   "file_extension": ".py",
   "mimetype": "text/x-python",
   "name": "python",
   "nbconvert_exporter": "python",
   "pygments_lexer": "ipython3",
   "version": "3.7.6"
  }
 },
 "nbformat": 4,
 "nbformat_minor": 4
}
